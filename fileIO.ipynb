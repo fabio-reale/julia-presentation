{
 "cells": [
  {
   "cell_type": "markdown",
   "metadata": {},
   "source": [
    "### Exemplo de uso do Multiple Dispatch, IO e DataFrames"
   ]
  },
  {
   "cell_type": "code",
   "execution_count": 1,
   "metadata": {},
   "outputs": [
    {
     "name": "stdout",
     "output_type": "stream",
     "text": [
      "bank-full.csv\n",
      "banktest.jl\n",
      "fileIO.ipynb\n",
      "iris.csv\n",
      "myexp.jl\n",
      "normtype.jl\n",
      "Preliminares.ipynb\n",
      "README.md\n",
      "tests.jl\n"
     ]
    }
   ],
   "source": [
    ";ls"
   ]
  },
  {
   "cell_type": "code",
   "execution_count": 24,
   "metadata": {},
   "outputs": [
    {
     "data": {
      "text/plain": [
       "myexp"
      ]
     },
     "execution_count": 24,
     "metadata": {},
     "output_type": "execute_result"
    }
   ],
   "source": [
    "include(\"myexp.jl\")"
   ]
  },
  {
   "cell_type": "code",
   "execution_count": 25,
   "metadata": {},
   "outputs": [
    {
     "name": "stdout",
     "output_type": "stream",
     "text": [
      "search: \u001b[0m\u001b[1mm\u001b[22m\u001b[0m\u001b[1my\u001b[22m\u001b[0m\u001b[1me\u001b[22m\u001b[0m\u001b[1mx\u001b[22m\u001b[0m\u001b[1mp\u001b[22m\n",
      "\n"
     ]
    },
    {
     "data": {
      "text/markdown": [
       "```\n",
       "myexp(x, n::Integer)\n",
       "```\n",
       "\n",
       "Retorna `x*x*...*x`, n vezes. Retorna o mesmo que `x*myexp(x, n-1)`, se n > 0.\n"
      ],
      "text/plain": [
       "\u001b[36m  myexp(x, n::Integer)\u001b[39m\n",
       "\n",
       "  Retorna \u001b[36mx*x*...*x\u001b[39m, n vezes. Retorna o mesmo que \u001b[36mx*myexp(x, n-1)\u001b[39m, se n > 0."
      ]
     },
     "execution_count": 25,
     "metadata": {},
     "output_type": "execute_result"
    }
   ],
   "source": [
    "?myexp"
   ]
  },
  {
   "cell_type": "code",
   "execution_count": 4,
   "metadata": {},
   "outputs": [
    {
     "data": {
      "text/plain": [
       "movelast!"
      ]
     },
     "execution_count": 4,
     "metadata": {},
     "output_type": "execute_result"
    }
   ],
   "source": [
    "include(\"banktest.jl\")"
   ]
  },
  {
   "cell_type": "code",
   "execution_count": 5,
   "metadata": {},
   "outputs": [
    {
     "data": {
      "text/plain": [
       "(Any[58 \"management\" … \"unknown\" \"no\"; 44 \"technician\" … \"unknown\" \"no\"; … ; 57 \"blue-collar\" … \"unknown\" \"no\"; 37 \"entrepreneur\" … \"other\" \"no\"], AbstractString[\"age\" \"job\" … \"poutcome\" \"y\"])"
      ]
     },
     "execution_count": 5,
     "metadata": {},
     "output_type": "execute_result"
    }
   ],
   "source": [
    "data, data_names = readdlm(\"bank-full.csv\", ';', header=true)"
   ]
  },
  {
   "cell_type": "code",
   "execution_count": 6,
   "metadata": {},
   "outputs": [
    {
     "name": "stdout",
     "output_type": "stream",
     "text": [
      "(45211, 17)\n",
      "age job marital education default balance housing loan contact day month duration campaign pdays previous poutcome y "
     ]
    },
    {
     "data": {
      "text/plain": [
       "5×17 Array{Any,2}:\n",
       " 58  \"management\"    \"married\"  …  261  1  -1  0  \"unknown\"  \"no\"\n",
       " 44  \"technician\"    \"single\"      151  1  -1  0  \"unknown\"  \"no\"\n",
       " 33  \"entrepreneur\"  \"married\"      76  1  -1  0  \"unknown\"  \"no\"\n",
       " 47  \"blue-collar\"   \"married\"      92  1  -1  0  \"unknown\"  \"no\"\n",
       " 33  \"unknown\"       \"single\"      198  1  -1  0  \"unknown\"  \"no\""
      ]
     },
     "execution_count": 6,
     "metadata": {},
     "output_type": "execute_result"
    }
   ],
   "source": [
    "println(size(data))\n",
    "print.(data_names[:],\" \")\n",
    "data[1:5,:]"
   ]
  },
  {
   "cell_type": "code",
   "execution_count": 7,
   "metadata": {},
   "outputs": [
    {
     "data": {
      "text/plain": [
       "17-element Array{DataType,1}:\n",
       " Int64            \n",
       " SubString{String}\n",
       " SubString{String}\n",
       " SubString{String}\n",
       " SubString{String}\n",
       " Int64            \n",
       " SubString{String}\n",
       " SubString{String}\n",
       " SubString{String}\n",
       " Int64            \n",
       " SubString{String}\n",
       " Int64            \n",
       " Int64            \n",
       " Int64            \n",
       " Int64            \n",
       " SubString{String}\n",
       " SubString{String}"
      ]
     },
     "execution_count": 7,
     "metadata": {},
     "output_type": "execute_result"
    }
   ],
   "source": [
    "typeof.(data[1,:])"
   ]
  },
  {
   "cell_type": "code",
   "execution_count": 8,
   "metadata": {},
   "outputs": [
    {
     "name": "stdout",
     "output_type": "stream",
     "text": [
      "search: \u001b[0m\u001b[1mp\u001b[22m\u001b[0m\u001b[1mr\u001b[22m\u001b[0m\u001b[1me\u001b[22m\u001b[0m\u001b[1mp\u001b[22m\u001b[0m\u001b[1mr\u001b[22m\u001b[0m\u001b[1mo\u001b[22m\u001b[0m\u001b[1mc\u001b[22m\u001b[0m\u001b[1me\u001b[22m\u001b[0m\u001b[1ms\u001b[22m\u001b[0m\u001b[1ms\u001b[22m\n",
      "\n"
     ]
    },
    {
     "data": {
      "text/markdown": [
       "```\n",
       "preprocess(data, col[, levels]) -> Matrix{Float64}\n",
       "```\n",
       "\n",
       "Preprocesses col-th column of data. If the list of levels is provided preprocess is more efficient. When the levels of the selected column are nominal, preprocess returns a matrix of dummy indicator variables, one for each of the categories contained in the given column of matrix data, with except for the last level. This exception is a consequence of the last level being uniquely defined from the others. Including the last level would make the output matrix a singular one. When the levels of the selected column are numerical, preprocess returns a vector of those values converted to Float64.\n"
      ],
      "text/plain": [
       "\u001b[36m  preprocess(data, col[, levels]) -> Matrix{Float64}\u001b[39m\n",
       "\n",
       "  Preprocesses col-th column of data. If the list of levels is provided\n",
       "  preprocess is more efficient. When the levels of the selected column are\n",
       "  nominal, preprocess returns a matrix of dummy indicator variables, one for\n",
       "  each of the categories contained in the given column of matrix data, with\n",
       "  except for the last level. This exception is a consequence of the last level\n",
       "  being uniquely defined from the others. Including the last level would make\n",
       "  the output matrix a singular one. When the levels of the selected column are\n",
       "  numerical, preprocess returns a vector of those values converted to Float64."
      ]
     },
     "execution_count": 8,
     "metadata": {},
     "output_type": "execute_result"
    }
   ],
   "source": [
    "?preprocess"
   ]
  },
  {
   "cell_type": "code",
   "execution_count": 9,
   "metadata": {},
   "outputs": [
    {
     "data": {
      "text/plain": [
       "45211×3 Array{Float64,2}:\n",
       " 58.0  1.0  0.0\n",
       " 44.0  0.0  1.0\n",
       " 33.0  1.0  0.0\n",
       " 47.0  1.0  0.0\n",
       " 33.0  0.0  1.0\n",
       " 35.0  1.0  0.0\n",
       " 28.0  0.0  1.0\n",
       " 42.0  0.0  0.0\n",
       " 58.0  1.0  0.0\n",
       " 43.0  0.0  1.0\n",
       " 41.0  0.0  0.0\n",
       " 29.0  0.0  1.0\n",
       " 53.0  1.0  0.0\n",
       "  ⋮            \n",
       " 34.0  0.0  1.0\n",
       " 38.0  1.0  0.0\n",
       " 53.0  1.0  0.0\n",
       " 34.0  0.0  1.0\n",
       " 23.0  0.0  1.0\n",
       " 73.0  1.0  0.0\n",
       " 25.0  0.0  1.0\n",
       " 51.0  1.0  0.0\n",
       " 71.0  0.0  0.0\n",
       " 72.0  1.0  0.0\n",
       " 57.0  1.0  0.0\n",
       " 37.0  1.0  0.0"
      ]
     },
     "execution_count": 9,
     "metadata": {},
     "output_type": "execute_result"
    }
   ],
   "source": [
    "D = buildmultivar(data, [1, 3])"
   ]
  },
  {
   "cell_type": "code",
   "execution_count": 10,
   "metadata": {},
   "outputs": [
    {
     "data": {
      "text/html": [
       "<table class=\"data-frame\"><thead><tr><th></th><th>age</th><th>job</th><th>marital</th><th>education</th><th>default</th><th>balance</th><th>housing</th><th>loan</th><th>contact</th><th>day</th><th>month</th><th>duration</th><th>campaign</th><th>pdays</th><th>previous</th><th>poutcome</th><th>y</th></tr></thead><tbody><tr><th>1</th><td>58</td><td>management</td><td>married</td><td>tertiary</td><td>no</td><td>2143</td><td>yes</td><td>no</td><td>unknown</td><td>5</td><td>may</td><td>261</td><td>1</td><td>-1</td><td>0</td><td>unknown</td><td>no</td></tr><tr><th>2</th><td>44</td><td>technician</td><td>single</td><td>secondary</td><td>no</td><td>29</td><td>yes</td><td>no</td><td>unknown</td><td>5</td><td>may</td><td>151</td><td>1</td><td>-1</td><td>0</td><td>unknown</td><td>no</td></tr><tr><th>3</th><td>33</td><td>entrepreneur</td><td>married</td><td>secondary</td><td>no</td><td>2</td><td>yes</td><td>yes</td><td>unknown</td><td>5</td><td>may</td><td>76</td><td>1</td><td>-1</td><td>0</td><td>unknown</td><td>no</td></tr><tr><th>4</th><td>47</td><td>blue-collar</td><td>married</td><td>unknown</td><td>no</td><td>1506</td><td>yes</td><td>no</td><td>unknown</td><td>5</td><td>may</td><td>92</td><td>1</td><td>-1</td><td>0</td><td>unknown</td><td>no</td></tr><tr><th>5</th><td>33</td><td>unknown</td><td>single</td><td>unknown</td><td>no</td><td>1</td><td>no</td><td>no</td><td>unknown</td><td>5</td><td>may</td><td>198</td><td>1</td><td>-1</td><td>0</td><td>unknown</td><td>no</td></tr><tr><th>6</th><td>35</td><td>management</td><td>married</td><td>tertiary</td><td>no</td><td>231</td><td>yes</td><td>no</td><td>unknown</td><td>5</td><td>may</td><td>139</td><td>1</td><td>-1</td><td>0</td><td>unknown</td><td>no</td></tr><tr><th>7</th><td>28</td><td>management</td><td>single</td><td>tertiary</td><td>no</td><td>447</td><td>yes</td><td>yes</td><td>unknown</td><td>5</td><td>may</td><td>217</td><td>1</td><td>-1</td><td>0</td><td>unknown</td><td>no</td></tr><tr><th>8</th><td>42</td><td>entrepreneur</td><td>divorced</td><td>tertiary</td><td>yes</td><td>2</td><td>yes</td><td>no</td><td>unknown</td><td>5</td><td>may</td><td>380</td><td>1</td><td>-1</td><td>0</td><td>unknown</td><td>no</td></tr><tr><th>9</th><td>58</td><td>retired</td><td>married</td><td>primary</td><td>no</td><td>121</td><td>yes</td><td>no</td><td>unknown</td><td>5</td><td>may</td><td>50</td><td>1</td><td>-1</td><td>0</td><td>unknown</td><td>no</td></tr><tr><th>10</th><td>43</td><td>technician</td><td>single</td><td>secondary</td><td>no</td><td>593</td><td>yes</td><td>no</td><td>unknown</td><td>5</td><td>may</td><td>55</td><td>1</td><td>-1</td><td>0</td><td>unknown</td><td>no</td></tr><tr><th>11</th><td>41</td><td>admin.</td><td>divorced</td><td>secondary</td><td>no</td><td>270</td><td>yes</td><td>no</td><td>unknown</td><td>5</td><td>may</td><td>222</td><td>1</td><td>-1</td><td>0</td><td>unknown</td><td>no</td></tr><tr><th>12</th><td>29</td><td>admin.</td><td>single</td><td>secondary</td><td>no</td><td>390</td><td>yes</td><td>no</td><td>unknown</td><td>5</td><td>may</td><td>137</td><td>1</td><td>-1</td><td>0</td><td>unknown</td><td>no</td></tr><tr><th>13</th><td>53</td><td>technician</td><td>married</td><td>secondary</td><td>no</td><td>6</td><td>yes</td><td>no</td><td>unknown</td><td>5</td><td>may</td><td>517</td><td>1</td><td>-1</td><td>0</td><td>unknown</td><td>no</td></tr><tr><th>14</th><td>58</td><td>technician</td><td>married</td><td>unknown</td><td>no</td><td>71</td><td>yes</td><td>no</td><td>unknown</td><td>5</td><td>may</td><td>71</td><td>1</td><td>-1</td><td>0</td><td>unknown</td><td>no</td></tr><tr><th>15</th><td>57</td><td>services</td><td>married</td><td>secondary</td><td>no</td><td>162</td><td>yes</td><td>no</td><td>unknown</td><td>5</td><td>may</td><td>174</td><td>1</td><td>-1</td><td>0</td><td>unknown</td><td>no</td></tr><tr><th>16</th><td>51</td><td>retired</td><td>married</td><td>primary</td><td>no</td><td>229</td><td>yes</td><td>no</td><td>unknown</td><td>5</td><td>may</td><td>353</td><td>1</td><td>-1</td><td>0</td><td>unknown</td><td>no</td></tr><tr><th>17</th><td>45</td><td>admin.</td><td>single</td><td>unknown</td><td>no</td><td>13</td><td>yes</td><td>no</td><td>unknown</td><td>5</td><td>may</td><td>98</td><td>1</td><td>-1</td><td>0</td><td>unknown</td><td>no</td></tr><tr><th>18</th><td>57</td><td>blue-collar</td><td>married</td><td>primary</td><td>no</td><td>52</td><td>yes</td><td>no</td><td>unknown</td><td>5</td><td>may</td><td>38</td><td>1</td><td>-1</td><td>0</td><td>unknown</td><td>no</td></tr><tr><th>19</th><td>60</td><td>retired</td><td>married</td><td>primary</td><td>no</td><td>60</td><td>yes</td><td>no</td><td>unknown</td><td>5</td><td>may</td><td>219</td><td>1</td><td>-1</td><td>0</td><td>unknown</td><td>no</td></tr><tr><th>20</th><td>33</td><td>services</td><td>married</td><td>secondary</td><td>no</td><td>0</td><td>yes</td><td>no</td><td>unknown</td><td>5</td><td>may</td><td>54</td><td>1</td><td>-1</td><td>0</td><td>unknown</td><td>no</td></tr><tr><th>21</th><td>28</td><td>blue-collar</td><td>married</td><td>secondary</td><td>no</td><td>723</td><td>yes</td><td>yes</td><td>unknown</td><td>5</td><td>may</td><td>262</td><td>1</td><td>-1</td><td>0</td><td>unknown</td><td>no</td></tr><tr><th>22</th><td>56</td><td>management</td><td>married</td><td>tertiary</td><td>no</td><td>779</td><td>yes</td><td>no</td><td>unknown</td><td>5</td><td>may</td><td>164</td><td>1</td><td>-1</td><td>0</td><td>unknown</td><td>no</td></tr><tr><th>23</th><td>32</td><td>blue-collar</td><td>single</td><td>primary</td><td>no</td><td>23</td><td>yes</td><td>yes</td><td>unknown</td><td>5</td><td>may</td><td>160</td><td>1</td><td>-1</td><td>0</td><td>unknown</td><td>no</td></tr><tr><th>24</th><td>25</td><td>services</td><td>married</td><td>secondary</td><td>no</td><td>50</td><td>yes</td><td>no</td><td>unknown</td><td>5</td><td>may</td><td>342</td><td>1</td><td>-1</td><td>0</td><td>unknown</td><td>no</td></tr><tr><th>25</th><td>40</td><td>retired</td><td>married</td><td>primary</td><td>no</td><td>0</td><td>yes</td><td>yes</td><td>unknown</td><td>5</td><td>may</td><td>181</td><td>1</td><td>-1</td><td>0</td><td>unknown</td><td>no</td></tr><tr><th>26</th><td>44</td><td>admin.</td><td>married</td><td>secondary</td><td>no</td><td>-372</td><td>yes</td><td>no</td><td>unknown</td><td>5</td><td>may</td><td>172</td><td>1</td><td>-1</td><td>0</td><td>unknown</td><td>no</td></tr><tr><th>27</th><td>39</td><td>management</td><td>single</td><td>tertiary</td><td>no</td><td>255</td><td>yes</td><td>no</td><td>unknown</td><td>5</td><td>may</td><td>296</td><td>1</td><td>-1</td><td>0</td><td>unknown</td><td>no</td></tr><tr><th>28</th><td>52</td><td>entrepreneur</td><td>married</td><td>secondary</td><td>no</td><td>113</td><td>yes</td><td>yes</td><td>unknown</td><td>5</td><td>may</td><td>127</td><td>1</td><td>-1</td><td>0</td><td>unknown</td><td>no</td></tr><tr><th>29</th><td>46</td><td>management</td><td>single</td><td>secondary</td><td>no</td><td>-246</td><td>yes</td><td>no</td><td>unknown</td><td>5</td><td>may</td><td>255</td><td>2</td><td>-1</td><td>0</td><td>unknown</td><td>no</td></tr><tr><th>30</th><td>36</td><td>technician</td><td>single</td><td>secondary</td><td>no</td><td>265</td><td>yes</td><td>yes</td><td>unknown</td><td>5</td><td>may</td><td>348</td><td>1</td><td>-1</td><td>0</td><td>unknown</td><td>no</td></tr><tr><th>&vellip;</th><td>&vellip;</td><td>&vellip;</td><td>&vellip;</td><td>&vellip;</td><td>&vellip;</td><td>&vellip;</td><td>&vellip;</td><td>&vellip;</td><td>&vellip;</td><td>&vellip;</td><td>&vellip;</td><td>&vellip;</td><td>&vellip;</td><td>&vellip;</td><td>&vellip;</td><td>&vellip;</td><td>&vellip;</td></tr></tbody></table>"
      ],
      "text/plain": [
       "45211×17 DataFrame. Omitted printing of 11 columns\n",
       "│ Row   │ age │ job          │ marital  │ education │ default │ balance │\n",
       "├───────┼─────┼──────────────┼──────────┼───────────┼─────────┼─────────┤\n",
       "│ 1     │ 58  │ management   │ married  │ tertiary  │ no      │ 2143    │\n",
       "│ 2     │ 44  │ technician   │ single   │ secondary │ no      │ 29      │\n",
       "│ 3     │ 33  │ entrepreneur │ married  │ secondary │ no      │ 2       │\n",
       "│ 4     │ 47  │ blue-collar  │ married  │ unknown   │ no      │ 1506    │\n",
       "│ 5     │ 33  │ unknown      │ single   │ unknown   │ no      │ 1       │\n",
       "│ 6     │ 35  │ management   │ married  │ tertiary  │ no      │ 231     │\n",
       "│ 7     │ 28  │ management   │ single   │ tertiary  │ no      │ 447     │\n",
       "│ 8     │ 42  │ entrepreneur │ divorced │ tertiary  │ yes     │ 2       │\n",
       "│ 9     │ 58  │ retired      │ married  │ primary   │ no      │ 121     │\n",
       "│ 10    │ 43  │ technician   │ single   │ secondary │ no      │ 593     │\n",
       "│ 11    │ 41  │ admin.       │ divorced │ secondary │ no      │ 270     │\n",
       "⋮\n",
       "│ 45200 │ 34  │ blue-collar  │ single   │ secondary │ no      │ 1475    │\n",
       "│ 45201 │ 38  │ technician   │ married  │ secondary │ no      │ 557     │\n",
       "│ 45202 │ 53  │ management   │ married  │ tertiary  │ no      │ 583     │\n",
       "│ 45203 │ 34  │ admin.       │ single   │ secondary │ no      │ 557     │\n",
       "│ 45204 │ 23  │ student      │ single   │ tertiary  │ no      │ 113     │\n",
       "│ 45205 │ 73  │ retired      │ married  │ secondary │ no      │ 2850    │\n",
       "│ 45206 │ 25  │ technician   │ single   │ secondary │ no      │ 505     │\n",
       "│ 45207 │ 51  │ technician   │ married  │ tertiary  │ no      │ 825     │\n",
       "│ 45208 │ 71  │ retired      │ divorced │ primary   │ no      │ 1729    │\n",
       "│ 45209 │ 72  │ retired      │ married  │ secondary │ no      │ 5715    │\n",
       "│ 45210 │ 57  │ blue-collar  │ married  │ secondary │ no      │ 668     │\n",
       "│ 45211 │ 37  │ entrepreneur │ married  │ secondary │ no      │ 2971    │"
      ]
     },
     "execution_count": 10,
     "metadata": {},
     "output_type": "execute_result"
    }
   ],
   "source": [
    "using DataFrames\n",
    "\n",
    "df = DataFrame(data, Symbol.(vec(data_names)))"
   ]
  },
  {
   "cell_type": "code",
   "execution_count": 11,
   "metadata": {},
   "outputs": [
    {
     "data": {
      "text/html": [
       "<table class=\"data-frame\"><thead><tr><th></th><th>variable</th><th>mean</th><th>min</th><th>median</th><th>max</th><th>nunique</th><th>nmissing</th><th>eltype</th></tr></thead><tbody><tr><th>1</th><td>age</td><td>40.9362</td><td>18</td><td></td><td>95</td><td>77</td><td>0</td><td>Any</td></tr><tr><th>2</th><td>job</td><td></td><td>admin.</td><td></td><td>unknown</td><td>12</td><td>0</td><td>Any</td></tr><tr><th>3</th><td>marital</td><td></td><td>divorced</td><td></td><td>single</td><td>3</td><td>0</td><td>Any</td></tr><tr><th>4</th><td>education</td><td></td><td>primary</td><td></td><td>unknown</td><td>4</td><td>0</td><td>Any</td></tr><tr><th>5</th><td>default</td><td></td><td>no</td><td></td><td>yes</td><td>2</td><td>0</td><td>Any</td></tr><tr><th>6</th><td>balance</td><td>1362.27</td><td>-8019</td><td></td><td>102127</td><td>7168</td><td>0</td><td>Any</td></tr><tr><th>7</th><td>housing</td><td></td><td>no</td><td></td><td>yes</td><td>2</td><td>0</td><td>Any</td></tr><tr><th>8</th><td>loan</td><td></td><td>no</td><td></td><td>yes</td><td>2</td><td>0</td><td>Any</td></tr><tr><th>9</th><td>contact</td><td></td><td>cellular</td><td></td><td>unknown</td><td>3</td><td>0</td><td>Any</td></tr><tr><th>10</th><td>day</td><td>15.8064</td><td>1</td><td></td><td>31</td><td>31</td><td>0</td><td>Any</td></tr><tr><th>11</th><td>month</td><td></td><td>apr</td><td></td><td>sep</td><td>12</td><td>0</td><td>Any</td></tr><tr><th>12</th><td>duration</td><td>258.163</td><td>0</td><td></td><td>4918</td><td>1573</td><td>0</td><td>Any</td></tr><tr><th>13</th><td>campaign</td><td>2.76384</td><td>1</td><td></td><td>63</td><td>48</td><td>0</td><td>Any</td></tr><tr><th>14</th><td>pdays</td><td>40.1978</td><td>-1</td><td></td><td>871</td><td>559</td><td>0</td><td>Any</td></tr><tr><th>15</th><td>previous</td><td>0.580323</td><td>0</td><td></td><td>275</td><td>41</td><td>0</td><td>Any</td></tr><tr><th>16</th><td>poutcome</td><td></td><td>failure</td><td></td><td>unknown</td><td>4</td><td>0</td><td>Any</td></tr><tr><th>17</th><td>y</td><td></td><td>no</td><td></td><td>yes</td><td>2</td><td>0</td><td>Any</td></tr></tbody></table>"
      ],
      "text/plain": [
       "17×8 DataFrame. Omitted printing of 2 columns\n",
       "│ Row │ variable  │ mean     │ min      │ median │ max     │ nunique │\n",
       "├─────┼───────────┼──────────┼──────────┼────────┼─────────┼─────────┤\n",
       "│ 1   │ age       │ 40.9362  │ 18       │        │ 95      │ 77      │\n",
       "│ 2   │ job       │          │ admin.   │        │ unknown │ 12      │\n",
       "│ 3   │ marital   │          │ divorced │        │ single  │ 3       │\n",
       "│ 4   │ education │          │ primary  │        │ unknown │ 4       │\n",
       "│ 5   │ default   │          │ no       │        │ yes     │ 2       │\n",
       "│ 6   │ balance   │ 1362.27  │ -8019    │        │ 102127  │ 7168    │\n",
       "│ 7   │ housing   │          │ no       │        │ yes     │ 2       │\n",
       "│ 8   │ loan      │          │ no       │        │ yes     │ 2       │\n",
       "│ 9   │ contact   │          │ cellular │        │ unknown │ 3       │\n",
       "│ 10  │ day       │ 15.8064  │ 1        │        │ 31      │ 31      │\n",
       "│ 11  │ month     │          │ apr      │        │ sep     │ 12      │\n",
       "│ 12  │ duration  │ 258.163  │ 0        │        │ 4918    │ 1573    │\n",
       "│ 13  │ campaign  │ 2.76384  │ 1        │        │ 63      │ 48      │\n",
       "│ 14  │ pdays     │ 40.1978  │ -1       │        │ 871     │ 559     │\n",
       "│ 15  │ previous  │ 0.580323 │ 0        │        │ 275     │ 41      │\n",
       "│ 16  │ poutcome  │          │ failure  │        │ unknown │ 4       │\n",
       "│ 17  │ y         │          │ no       │        │ yes     │ 2       │"
      ]
     },
     "execution_count": 11,
     "metadata": {},
     "output_type": "execute_result"
    }
   ],
   "source": [
    "describe(df)"
   ]
  },
  {
   "cell_type": "code",
   "execution_count": 12,
   "metadata": {},
   "outputs": [
    {
     "data": {
      "text/html": [
       "<table class=\"data-frame\"><thead><tr><th></th><th>age</th><th>job</th><th>marital</th><th>education</th><th>default</th><th>balance</th><th>housing</th><th>loan</th><th>contact</th><th>day</th><th>month</th><th>duration</th><th>campaign</th><th>pdays</th><th>previous</th><th>poutcome</th><th>y</th></tr></thead><tbody><tr><th>1</th><td>25</td><td>technician</td><td>single</td><td>secondary</td><td>no</td><td>505</td><td>no</td><td>yes</td><td>cellular</td><td>17</td><td>nov</td><td>386</td><td>2</td><td>-1</td><td>0</td><td>unknown</td><td>yes</td></tr><tr><th>2</th><td>51</td><td>technician</td><td>married</td><td>tertiary</td><td>no</td><td>825</td><td>no</td><td>no</td><td>cellular</td><td>17</td><td>nov</td><td>977</td><td>3</td><td>-1</td><td>0</td><td>unknown</td><td>yes</td></tr><tr><th>3</th><td>71</td><td>retired</td><td>divorced</td><td>primary</td><td>no</td><td>1729</td><td>no</td><td>no</td><td>cellular</td><td>17</td><td>nov</td><td>456</td><td>2</td><td>-1</td><td>0</td><td>unknown</td><td>yes</td></tr><tr><th>4</th><td>72</td><td>retired</td><td>married</td><td>secondary</td><td>no</td><td>5715</td><td>no</td><td>no</td><td>cellular</td><td>17</td><td>nov</td><td>1127</td><td>5</td><td>184</td><td>3</td><td>success</td><td>yes</td></tr><tr><th>5</th><td>57</td><td>blue-collar</td><td>married</td><td>secondary</td><td>no</td><td>668</td><td>no</td><td>no</td><td>telephone</td><td>17</td><td>nov</td><td>508</td><td>4</td><td>-1</td><td>0</td><td>unknown</td><td>no</td></tr><tr><th>6</th><td>37</td><td>entrepreneur</td><td>married</td><td>secondary</td><td>no</td><td>2971</td><td>no</td><td>no</td><td>cellular</td><td>17</td><td>nov</td><td>361</td><td>2</td><td>188</td><td>11</td><td>other</td><td>no</td></tr></tbody></table>"
      ],
      "text/plain": [
       "6×17 DataFrame. Omitted printing of 11 columns\n",
       "│ Row │ age │ job          │ marital  │ education │ default │ balance │\n",
       "├─────┼─────┼──────────────┼──────────┼───────────┼─────────┼─────────┤\n",
       "│ 1   │ 25  │ technician   │ single   │ secondary │ no      │ 505     │\n",
       "│ 2   │ 51  │ technician   │ married  │ tertiary  │ no      │ 825     │\n",
       "│ 3   │ 71  │ retired      │ divorced │ primary   │ no      │ 1729    │\n",
       "│ 4   │ 72  │ retired      │ married  │ secondary │ no      │ 5715    │\n",
       "│ 5   │ 57  │ blue-collar  │ married  │ secondary │ no      │ 668     │\n",
       "│ 6   │ 37  │ entrepreneur │ married  │ secondary │ no      │ 2971    │"
      ]
     },
     "execution_count": 12,
     "metadata": {},
     "output_type": "execute_result"
    }
   ],
   "source": [
    "tail(df)"
   ]
  }
 ],
 "metadata": {
  "kernelspec": {
   "display_name": "Julia 1.0.0",
   "language": "julia",
   "name": "julia-1.0"
  },
  "language_info": {
   "file_extension": ".jl",
   "mimetype": "application/julia",
   "name": "julia",
   "version": "1.0.0"
  }
 },
 "nbformat": 4,
 "nbformat_minor": 2
}
