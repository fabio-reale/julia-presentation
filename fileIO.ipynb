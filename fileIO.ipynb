{
 "cells": [
  {
   "cell_type": "markdown",
   "metadata": {},
   "source": [
    "### Exemplo de uso do Multiple Dispatch, IO e DataFrames"
   ]
  },
  {
   "cell_type": "code",
   "execution_count": 1,
   "metadata": {},
   "outputs": [
    {
     "name": "stdout",
     "output_type": "stream",
     "text": [
      "bank-full.csv\n",
      "banktest.jl\n",
      "componentesprincipais.ipynb\n",
      "fileIO.ipynb\n",
      "iris.csv\n",
      "myexp.jl\n",
      "normtype.jl\n",
      "Preliminares.ipynb\n",
      "README.md\n",
      "tests.jl\n"
     ]
    }
   ],
   "source": [
    ";ls"
   ]
  },
  {
   "cell_type": "code",
   "execution_count": 2,
   "metadata": {},
   "outputs": [
    {
     "data": {
      "text/plain": [
       "myexp (generic function with 2 methods)"
      ]
     },
     "execution_count": 2,
     "metadata": {},
     "output_type": "execute_result"
    }
   ],
   "source": [
    "#= Se o arquivo que você quer adicionar está no diretório atual basta\n",
    "chamar include(\"nome_do_arquivo.jl\"), caso contrário é preciso passar\n",
    "todo o path na string =#\n",
    "include(\"myexp.jl\")"
   ]
  },
  {
   "cell_type": "code",
   "execution_count": 3,
   "metadata": {},
   "outputs": [
    {
     "name": "stdout",
     "output_type": "stream",
     "text": [
      "search: \u001b[0m\u001b[1mm\u001b[22m\u001b[0m\u001b[1my\u001b[22m\u001b[0m\u001b[1me\u001b[22m\u001b[0m\u001b[1mx\u001b[22m\u001b[0m\u001b[1mp\u001b[22m\n",
      "\n"
     ]
    },
    {
     "data": {
      "text/markdown": [
       "```\n",
       "myexp(x, n::Integer)\n",
       "```\n",
       "\n",
       "Retorna `x*x*...*x`, n vezes. Retorna o mesmo que `x*myexp(x, n-1)`, se n > 0.\n"
      ],
      "text/plain": [
       "\u001b[36m  myexp(x, n::Integer)\u001b[39m\n",
       "\n",
       "  Retorna \u001b[36mx*x*...*x\u001b[39m, n vezes. Retorna o mesmo que \u001b[36mx*myexp(x, n-1)\u001b[39m, se n > 0."
      ]
     },
     "execution_count": 3,
     "metadata": {},
     "output_type": "execute_result"
    }
   ],
   "source": [
    "?myexp"
   ]
  },
  {
   "cell_type": "markdown",
   "metadata": {},
   "source": [
    "Como a função `myexp` foi definida sem restrição em x, `myexp(x,n)` abstrai o tipo da variável x até que não seja mais possível fazer isso, que é quando algum produto (*) precisa ter seu valor calculado.\n",
    "Dessa forma, se x é um tipo para o qual o operador * estiver definido, a função `myexp` funciona."
   ]
  },
  {
   "cell_type": "code",
   "execution_count": 4,
   "metadata": {},
   "outputs": [
    {
     "data": {
      "text/plain": [
       "8"
      ]
     },
     "execution_count": 4,
     "metadata": {},
     "output_type": "execute_result"
    }
   ],
   "source": [
    "myexp(2,3)"
   ]
  },
  {
   "cell_type": "code",
   "execution_count": 5,
   "metadata": {},
   "outputs": [
    {
     "data": {
      "text/plain": [
       "8.0"
      ]
     },
     "execution_count": 5,
     "metadata": {},
     "output_type": "execute_result"
    }
   ],
   "source": [
    "myexp(2.0,3)"
   ]
  },
  {
   "cell_type": "code",
   "execution_count": 6,
   "metadata": {},
   "outputs": [
    {
     "data": {
      "text/plain": [
       "2×2 Array{Int64,2}:\n",
       " 8  0\n",
       " 0  8"
      ]
     },
     "execution_count": 6,
     "metadata": {},
     "output_type": "execute_result"
    }
   ],
   "source": [
    "m = [2 0;\n",
    "     0 2]\n",
    "myexp(m,3)"
   ]
  },
  {
   "cell_type": "code",
   "execution_count": 7,
   "metadata": {},
   "outputs": [
    {
     "data": {
      "text/plain": [
       "\"hahaha\""
      ]
     },
     "execution_count": 7,
     "metadata": {},
     "output_type": "execute_result"
    }
   ],
   "source": [
    "# assim descobrimos que * é um operador de concatenação de strings\n",
    "myexp(\"ha\", 3)"
   ]
  },
  {
   "cell_type": "code",
   "execution_count": 8,
   "metadata": {},
   "outputs": [
    {
     "data": {
      "text/plain": [
       "2"
      ]
     },
     "execution_count": 8,
     "metadata": {},
     "output_type": "execute_result"
    }
   ],
   "source": [
    "myexp(2, true)"
   ]
  },
  {
   "cell_type": "markdown",
   "metadata": {},
   "source": [
    "O comportamento acima acontece porque `myexp` exige que o expoente seja do tipo `Integer` e, por acaso, `Bool` é subtipo de `Integer`"
   ]
  },
  {
   "cell_type": "code",
   "execution_count": 9,
   "metadata": {},
   "outputs": [],
   "source": [
    "# Pode-se utilizar ; no final de um comando para suprimir\n",
    "# a impressão de seu valor de retorno\n",
    "include(\"banktest.jl\");"
   ]
  },
  {
   "cell_type": "code",
   "execution_count": 10,
   "metadata": {},
   "outputs": [
    {
     "data": {
      "text/plain": [
       "(Any[58 \"management\" … \"unknown\" \"no\"; 44 \"technician\" … \"unknown\" \"no\"; … ; 57 \"blue-collar\" … \"unknown\" \"no\"; 37 \"entrepreneur\" … \"other\" \"no\"], AbstractString[\"age\" \"job\" … \"poutcome\" \"y\"])"
      ]
     },
     "execution_count": 10,
     "metadata": {},
     "output_type": "execute_result"
    }
   ],
   "source": [
    "# readdlm faz parte do módulo DelimitedFiles\n",
    "# para poder utilizá-la, deve ser dado o comando\n",
    "using DelimitedFiles\n",
    "arq = readdlm(\"bank-full.csv\", ';', header=true)"
   ]
  },
  {
   "cell_type": "markdown",
   "metadata": {},
   "source": [
    "Wow, o que é tudo isso?"
   ]
  },
  {
   "cell_type": "code",
   "execution_count": 11,
   "metadata": {},
   "outputs": [
    {
     "data": {
      "text/plain": [
       "Tuple{Array{Any,2},Array{AbstractString,2}}"
      ]
     },
     "execution_count": 11,
     "metadata": {},
     "output_type": "execute_result"
    }
   ],
   "source": [
    "# Tuplas são containers genéricos.\n",
    "# Funções que tem mais de um valor de retorno retornam uma tupla com os valores\n",
    "typeof(arq)"
   ]
  },
  {
   "cell_type": "code",
   "execution_count": 12,
   "metadata": {},
   "outputs": [
    {
     "name": "stdout",
     "output_type": "stream",
     "text": [
      "(45211, 17)\n",
      "(1, 17)\n"
     ]
    }
   ],
   "source": [
    "# Parece que a primeira entrada da 2-upla contém os dados\n",
    "# e a outra os nomes das variáveis\n",
    "println(size(arq[1]))\n",
    "println(size(arq[2]))"
   ]
  },
  {
   "cell_type": "code",
   "execution_count": 13,
   "metadata": {},
   "outputs": [
    {
     "data": {
      "text/plain": [
       "45211×17 Array{Any,2}:\n",
       " 58  \"management\"    \"married\"   …   261  1   -1   0  \"unknown\"  \"no\" \n",
       " 44  \"technician\"    \"single\"        151  1   -1   0  \"unknown\"  \"no\" \n",
       " 33  \"entrepreneur\"  \"married\"        76  1   -1   0  \"unknown\"  \"no\" \n",
       " 47  \"blue-collar\"   \"married\"        92  1   -1   0  \"unknown\"  \"no\" \n",
       " 33  \"unknown\"       \"single\"        198  1   -1   0  \"unknown\"  \"no\" \n",
       " 35  \"management\"    \"married\"   …   139  1   -1   0  \"unknown\"  \"no\" \n",
       " 28  \"management\"    \"single\"        217  1   -1   0  \"unknown\"  \"no\" \n",
       " 42  \"entrepreneur\"  \"divorced\"      380  1   -1   0  \"unknown\"  \"no\" \n",
       " 58  \"retired\"       \"married\"        50  1   -1   0  \"unknown\"  \"no\" \n",
       " 43  \"technician\"    \"single\"         55  1   -1   0  \"unknown\"  \"no\" \n",
       " 41  \"admin.\"        \"divorced\"  …   222  1   -1   0  \"unknown\"  \"no\" \n",
       " 29  \"admin.\"        \"single\"        137  1   -1   0  \"unknown\"  \"no\" \n",
       " 53  \"technician\"    \"married\"       517  1   -1   0  \"unknown\"  \"no\" \n",
       "  ⋮                              ⋱                    ⋮               \n",
       " 34  \"blue-collar\"   \"single\"       1166  3  530  12  \"other\"    \"no\" \n",
       " 38  \"technician\"    \"married\"   …  1556  4   -1   0  \"unknown\"  \"yes\"\n",
       " 53  \"management\"    \"married\"       226  1  184   4  \"success\"  \"yes\"\n",
       " 34  \"admin.\"        \"single\"        224  1   -1   0  \"unknown\"  \"yes\"\n",
       " 23  \"student\"       \"single\"        266  1   -1   0  \"unknown\"  \"yes\"\n",
       " 73  \"retired\"       \"married\"       300  1   40   8  \"failure\"  \"yes\"\n",
       " 25  \"technician\"    \"single\"    …   386  2   -1   0  \"unknown\"  \"yes\"\n",
       " 51  \"technician\"    \"married\"       977  3   -1   0  \"unknown\"  \"yes\"\n",
       " 71  \"retired\"       \"divorced\"      456  2   -1   0  \"unknown\"  \"yes\"\n",
       " 72  \"retired\"       \"married\"      1127  5  184   3  \"success\"  \"yes\"\n",
       " 57  \"blue-collar\"   \"married\"       508  4   -1   0  \"unknown\"  \"no\" \n",
       " 37  \"entrepreneur\"  \"married\"   …   361  2  188  11  \"other\"    \"no\" "
      ]
     },
     "execution_count": 13,
     "metadata": {},
     "output_type": "execute_result"
    }
   ],
   "source": [
    "data = arq[1]"
   ]
  },
  {
   "cell_type": "code",
   "execution_count": 14,
   "metadata": {},
   "outputs": [
    {
     "data": {
      "text/plain": [
       "1×17 Array{AbstractString,2}:\n",
       " \"age\"  \"job\"  \"marital\"  \"education\"  …  \"previous\"  \"poutcome\"  \"y\""
      ]
     },
     "execution_count": 14,
     "metadata": {},
     "output_type": "execute_result"
    }
   ],
   "source": [
    "data_names = arq[2]"
   ]
  },
  {
   "cell_type": "code",
   "execution_count": 15,
   "metadata": {},
   "outputs": [
    {
     "data": {
      "text/plain": [
       "17-element Array{DataType,1}:\n",
       " Int64            \n",
       " SubString{String}\n",
       " SubString{String}\n",
       " SubString{String}\n",
       " SubString{String}\n",
       " Int64            \n",
       " SubString{String}\n",
       " SubString{String}\n",
       " SubString{String}\n",
       " Int64            \n",
       " SubString{String}\n",
       " Int64            \n",
       " Int64            \n",
       " Int64            \n",
       " Int64            \n",
       " SubString{String}\n",
       " SubString{String}"
      ]
     },
     "execution_count": 15,
     "metadata": {},
     "output_type": "execute_result"
    }
   ],
   "source": [
    "# A matriz de dados contém diferentes tipos de dados em suas colunas\n",
    "typeof.(data[1,:])"
   ]
  },
  {
   "cell_type": "markdown",
   "metadata": {},
   "source": [
    "A vantagem do Multiple Dispatch, do ponto de vista do usuário da linguagem é poder criar diferentes versões da mesma função para lidar com tipos diferentes. Num contexto estrito, isso leva a um ganho de performance.\n",
    "\n",
    "No caso desse exemplo que apresento aqui, essa característica permitiu a criação de uma função `preprocess` com dois métodos, um lidando com inteiros e outro lidando com strings."
   ]
  },
  {
   "cell_type": "code",
   "execution_count": 16,
   "metadata": {},
   "outputs": [
    {
     "name": "stdout",
     "output_type": "stream",
     "text": [
      "search: \u001b[0m\u001b[1mp\u001b[22m\u001b[0m\u001b[1mr\u001b[22m\u001b[0m\u001b[1me\u001b[22m\u001b[0m\u001b[1mp\u001b[22m\u001b[0m\u001b[1mr\u001b[22m\u001b[0m\u001b[1mo\u001b[22m\u001b[0m\u001b[1mc\u001b[22m\u001b[0m\u001b[1me\u001b[22m\u001b[0m\u001b[1ms\u001b[22m\u001b[0m\u001b[1ms\u001b[22m\n",
      "\n"
     ]
    },
    {
     "data": {
      "text/markdown": [
       "```\n",
       "preprocess(data, col[, levels]) -> Matrix{Float64}\n",
       "```\n",
       "\n",
       "Preprocesses col-th column of data. If the list of levels is provided preprocess is more efficient. When the levels of the selected column are nominal, preprocess returns a matrix of dummy indicator variables, one for each of the categories contained in the given column of matrix data, with except for the last level. This exception is a consequence of the last level being uniquely defined from the others. Including the last level would make the output matrix a singular one. When the levels of the selected column are numerical, preprocess returns a vector of those values converted to Float64.\n"
      ],
      "text/plain": [
       "\u001b[36m  preprocess(data, col[, levels]) -> Matrix{Float64}\u001b[39m\n",
       "\n",
       "  Preprocesses col-th column of data. If the list of levels is provided\n",
       "  preprocess is more efficient. When the levels of the selected column are\n",
       "  nominal, preprocess returns a matrix of dummy indicator variables, one for\n",
       "  each of the categories contained in the given column of matrix data, with\n",
       "  except for the last level. This exception is a consequence of the last level\n",
       "  being uniquely defined from the others. Including the last level would make\n",
       "  the output matrix a singular one. When the levels of the selected column are\n",
       "  numerical, preprocess returns a vector of those values converted to Float64."
      ]
     },
     "execution_count": 16,
     "metadata": {},
     "output_type": "execute_result"
    }
   ],
   "source": [
    "?preprocess"
   ]
  },
  {
   "cell_type": "code",
   "execution_count": 17,
   "metadata": {},
   "outputs": [
    {
     "data": {
      "text/plain": [
       "45211×3 Array{Float64,2}:\n",
       " 58.0  1.0  0.0\n",
       " 44.0  0.0  1.0\n",
       " 33.0  1.0  0.0\n",
       " 47.0  1.0  0.0\n",
       " 33.0  0.0  1.0\n",
       " 35.0  1.0  0.0\n",
       " 28.0  0.0  1.0\n",
       " 42.0  0.0  0.0\n",
       " 58.0  1.0  0.0\n",
       " 43.0  0.0  1.0\n",
       " 41.0  0.0  0.0\n",
       " 29.0  0.0  1.0\n",
       " 53.0  1.0  0.0\n",
       "  ⋮            \n",
       " 34.0  0.0  1.0\n",
       " 38.0  1.0  0.0\n",
       " 53.0  1.0  0.0\n",
       " 34.0  0.0  1.0\n",
       " 23.0  0.0  1.0\n",
       " 73.0  1.0  0.0\n",
       " 25.0  0.0  1.0\n",
       " 51.0  1.0  0.0\n",
       " 71.0  0.0  0.0\n",
       " 72.0  1.0  0.0\n",
       " 57.0  1.0  0.0\n",
       " 37.0  1.0  0.0"
      ]
     },
     "execution_count": 17,
     "metadata": {},
     "output_type": "execute_result"
    }
   ],
   "source": [
    "# A função buildmultivar produz uma matriz com as colunas dadas na lista\n",
    "# O Multiple Dispatch resolve a questão de enviar os tipos certos para as \n",
    "# versões certas\n",
    "D = buildmultivar(data, [1, 3])"
   ]
  },
  {
   "cell_type": "markdown",
   "metadata": {},
   "source": [
    "Julia também oferece a estrutura de dados de Data Frames."
   ]
  },
  {
   "cell_type": "code",
   "execution_count": 18,
   "metadata": {},
   "outputs": [
    {
     "data": {
      "text/html": [
       "<table class=\"data-frame\"><thead><tr><th></th><th>age</th><th>job</th><th>marital</th><th>education</th><th>default</th><th>balance</th><th>housing</th><th>loan</th><th>contact</th><th>day</th><th>month</th><th>duration</th><th>campaign</th><th>pdays</th><th>previous</th><th>poutcome</th><th>y</th></tr></thead><tbody><tr><th>1</th><td>58</td><td>management</td><td>married</td><td>tertiary</td><td>no</td><td>2143</td><td>yes</td><td>no</td><td>unknown</td><td>5</td><td>may</td><td>261</td><td>1</td><td>-1</td><td>0</td><td>unknown</td><td>no</td></tr><tr><th>2</th><td>44</td><td>technician</td><td>single</td><td>secondary</td><td>no</td><td>29</td><td>yes</td><td>no</td><td>unknown</td><td>5</td><td>may</td><td>151</td><td>1</td><td>-1</td><td>0</td><td>unknown</td><td>no</td></tr><tr><th>3</th><td>33</td><td>entrepreneur</td><td>married</td><td>secondary</td><td>no</td><td>2</td><td>yes</td><td>yes</td><td>unknown</td><td>5</td><td>may</td><td>76</td><td>1</td><td>-1</td><td>0</td><td>unknown</td><td>no</td></tr><tr><th>4</th><td>47</td><td>blue-collar</td><td>married</td><td>unknown</td><td>no</td><td>1506</td><td>yes</td><td>no</td><td>unknown</td><td>5</td><td>may</td><td>92</td><td>1</td><td>-1</td><td>0</td><td>unknown</td><td>no</td></tr><tr><th>5</th><td>33</td><td>unknown</td><td>single</td><td>unknown</td><td>no</td><td>1</td><td>no</td><td>no</td><td>unknown</td><td>5</td><td>may</td><td>198</td><td>1</td><td>-1</td><td>0</td><td>unknown</td><td>no</td></tr><tr><th>6</th><td>35</td><td>management</td><td>married</td><td>tertiary</td><td>no</td><td>231</td><td>yes</td><td>no</td><td>unknown</td><td>5</td><td>may</td><td>139</td><td>1</td><td>-1</td><td>0</td><td>unknown</td><td>no</td></tr><tr><th>7</th><td>28</td><td>management</td><td>single</td><td>tertiary</td><td>no</td><td>447</td><td>yes</td><td>yes</td><td>unknown</td><td>5</td><td>may</td><td>217</td><td>1</td><td>-1</td><td>0</td><td>unknown</td><td>no</td></tr><tr><th>8</th><td>42</td><td>entrepreneur</td><td>divorced</td><td>tertiary</td><td>yes</td><td>2</td><td>yes</td><td>no</td><td>unknown</td><td>5</td><td>may</td><td>380</td><td>1</td><td>-1</td><td>0</td><td>unknown</td><td>no</td></tr><tr><th>9</th><td>58</td><td>retired</td><td>married</td><td>primary</td><td>no</td><td>121</td><td>yes</td><td>no</td><td>unknown</td><td>5</td><td>may</td><td>50</td><td>1</td><td>-1</td><td>0</td><td>unknown</td><td>no</td></tr><tr><th>10</th><td>43</td><td>technician</td><td>single</td><td>secondary</td><td>no</td><td>593</td><td>yes</td><td>no</td><td>unknown</td><td>5</td><td>may</td><td>55</td><td>1</td><td>-1</td><td>0</td><td>unknown</td><td>no</td></tr><tr><th>11</th><td>41</td><td>admin.</td><td>divorced</td><td>secondary</td><td>no</td><td>270</td><td>yes</td><td>no</td><td>unknown</td><td>5</td><td>may</td><td>222</td><td>1</td><td>-1</td><td>0</td><td>unknown</td><td>no</td></tr><tr><th>12</th><td>29</td><td>admin.</td><td>single</td><td>secondary</td><td>no</td><td>390</td><td>yes</td><td>no</td><td>unknown</td><td>5</td><td>may</td><td>137</td><td>1</td><td>-1</td><td>0</td><td>unknown</td><td>no</td></tr><tr><th>13</th><td>53</td><td>technician</td><td>married</td><td>secondary</td><td>no</td><td>6</td><td>yes</td><td>no</td><td>unknown</td><td>5</td><td>may</td><td>517</td><td>1</td><td>-1</td><td>0</td><td>unknown</td><td>no</td></tr><tr><th>14</th><td>58</td><td>technician</td><td>married</td><td>unknown</td><td>no</td><td>71</td><td>yes</td><td>no</td><td>unknown</td><td>5</td><td>may</td><td>71</td><td>1</td><td>-1</td><td>0</td><td>unknown</td><td>no</td></tr><tr><th>15</th><td>57</td><td>services</td><td>married</td><td>secondary</td><td>no</td><td>162</td><td>yes</td><td>no</td><td>unknown</td><td>5</td><td>may</td><td>174</td><td>1</td><td>-1</td><td>0</td><td>unknown</td><td>no</td></tr><tr><th>16</th><td>51</td><td>retired</td><td>married</td><td>primary</td><td>no</td><td>229</td><td>yes</td><td>no</td><td>unknown</td><td>5</td><td>may</td><td>353</td><td>1</td><td>-1</td><td>0</td><td>unknown</td><td>no</td></tr><tr><th>17</th><td>45</td><td>admin.</td><td>single</td><td>unknown</td><td>no</td><td>13</td><td>yes</td><td>no</td><td>unknown</td><td>5</td><td>may</td><td>98</td><td>1</td><td>-1</td><td>0</td><td>unknown</td><td>no</td></tr><tr><th>18</th><td>57</td><td>blue-collar</td><td>married</td><td>primary</td><td>no</td><td>52</td><td>yes</td><td>no</td><td>unknown</td><td>5</td><td>may</td><td>38</td><td>1</td><td>-1</td><td>0</td><td>unknown</td><td>no</td></tr><tr><th>19</th><td>60</td><td>retired</td><td>married</td><td>primary</td><td>no</td><td>60</td><td>yes</td><td>no</td><td>unknown</td><td>5</td><td>may</td><td>219</td><td>1</td><td>-1</td><td>0</td><td>unknown</td><td>no</td></tr><tr><th>20</th><td>33</td><td>services</td><td>married</td><td>secondary</td><td>no</td><td>0</td><td>yes</td><td>no</td><td>unknown</td><td>5</td><td>may</td><td>54</td><td>1</td><td>-1</td><td>0</td><td>unknown</td><td>no</td></tr><tr><th>21</th><td>28</td><td>blue-collar</td><td>married</td><td>secondary</td><td>no</td><td>723</td><td>yes</td><td>yes</td><td>unknown</td><td>5</td><td>may</td><td>262</td><td>1</td><td>-1</td><td>0</td><td>unknown</td><td>no</td></tr><tr><th>22</th><td>56</td><td>management</td><td>married</td><td>tertiary</td><td>no</td><td>779</td><td>yes</td><td>no</td><td>unknown</td><td>5</td><td>may</td><td>164</td><td>1</td><td>-1</td><td>0</td><td>unknown</td><td>no</td></tr><tr><th>23</th><td>32</td><td>blue-collar</td><td>single</td><td>primary</td><td>no</td><td>23</td><td>yes</td><td>yes</td><td>unknown</td><td>5</td><td>may</td><td>160</td><td>1</td><td>-1</td><td>0</td><td>unknown</td><td>no</td></tr><tr><th>24</th><td>25</td><td>services</td><td>married</td><td>secondary</td><td>no</td><td>50</td><td>yes</td><td>no</td><td>unknown</td><td>5</td><td>may</td><td>342</td><td>1</td><td>-1</td><td>0</td><td>unknown</td><td>no</td></tr><tr><th>25</th><td>40</td><td>retired</td><td>married</td><td>primary</td><td>no</td><td>0</td><td>yes</td><td>yes</td><td>unknown</td><td>5</td><td>may</td><td>181</td><td>1</td><td>-1</td><td>0</td><td>unknown</td><td>no</td></tr><tr><th>26</th><td>44</td><td>admin.</td><td>married</td><td>secondary</td><td>no</td><td>-372</td><td>yes</td><td>no</td><td>unknown</td><td>5</td><td>may</td><td>172</td><td>1</td><td>-1</td><td>0</td><td>unknown</td><td>no</td></tr><tr><th>27</th><td>39</td><td>management</td><td>single</td><td>tertiary</td><td>no</td><td>255</td><td>yes</td><td>no</td><td>unknown</td><td>5</td><td>may</td><td>296</td><td>1</td><td>-1</td><td>0</td><td>unknown</td><td>no</td></tr><tr><th>28</th><td>52</td><td>entrepreneur</td><td>married</td><td>secondary</td><td>no</td><td>113</td><td>yes</td><td>yes</td><td>unknown</td><td>5</td><td>may</td><td>127</td><td>1</td><td>-1</td><td>0</td><td>unknown</td><td>no</td></tr><tr><th>29</th><td>46</td><td>management</td><td>single</td><td>secondary</td><td>no</td><td>-246</td><td>yes</td><td>no</td><td>unknown</td><td>5</td><td>may</td><td>255</td><td>2</td><td>-1</td><td>0</td><td>unknown</td><td>no</td></tr><tr><th>30</th><td>36</td><td>technician</td><td>single</td><td>secondary</td><td>no</td><td>265</td><td>yes</td><td>yes</td><td>unknown</td><td>5</td><td>may</td><td>348</td><td>1</td><td>-1</td><td>0</td><td>unknown</td><td>no</td></tr><tr><th>&vellip;</th><td>&vellip;</td><td>&vellip;</td><td>&vellip;</td><td>&vellip;</td><td>&vellip;</td><td>&vellip;</td><td>&vellip;</td><td>&vellip;</td><td>&vellip;</td><td>&vellip;</td><td>&vellip;</td><td>&vellip;</td><td>&vellip;</td><td>&vellip;</td><td>&vellip;</td><td>&vellip;</td><td>&vellip;</td></tr></tbody></table>"
      ],
      "text/plain": [
       "45211×17 DataFrame. Omitted printing of 11 columns\n",
       "│ Row   │ age │ job          │ marital  │ education │ default │ balance │\n",
       "├───────┼─────┼──────────────┼──────────┼───────────┼─────────┼─────────┤\n",
       "│ 1     │ 58  │ management   │ married  │ tertiary  │ no      │ 2143    │\n",
       "│ 2     │ 44  │ technician   │ single   │ secondary │ no      │ 29      │\n",
       "│ 3     │ 33  │ entrepreneur │ married  │ secondary │ no      │ 2       │\n",
       "│ 4     │ 47  │ blue-collar  │ married  │ unknown   │ no      │ 1506    │\n",
       "│ 5     │ 33  │ unknown      │ single   │ unknown   │ no      │ 1       │\n",
       "│ 6     │ 35  │ management   │ married  │ tertiary  │ no      │ 231     │\n",
       "│ 7     │ 28  │ management   │ single   │ tertiary  │ no      │ 447     │\n",
       "│ 8     │ 42  │ entrepreneur │ divorced │ tertiary  │ yes     │ 2       │\n",
       "│ 9     │ 58  │ retired      │ married  │ primary   │ no      │ 121     │\n",
       "│ 10    │ 43  │ technician   │ single   │ secondary │ no      │ 593     │\n",
       "│ 11    │ 41  │ admin.       │ divorced │ secondary │ no      │ 270     │\n",
       "⋮\n",
       "│ 45200 │ 34  │ blue-collar  │ single   │ secondary │ no      │ 1475    │\n",
       "│ 45201 │ 38  │ technician   │ married  │ secondary │ no      │ 557     │\n",
       "│ 45202 │ 53  │ management   │ married  │ tertiary  │ no      │ 583     │\n",
       "│ 45203 │ 34  │ admin.       │ single   │ secondary │ no      │ 557     │\n",
       "│ 45204 │ 23  │ student      │ single   │ tertiary  │ no      │ 113     │\n",
       "│ 45205 │ 73  │ retired      │ married  │ secondary │ no      │ 2850    │\n",
       "│ 45206 │ 25  │ technician   │ single   │ secondary │ no      │ 505     │\n",
       "│ 45207 │ 51  │ technician   │ married  │ tertiary  │ no      │ 825     │\n",
       "│ 45208 │ 71  │ retired      │ divorced │ primary   │ no      │ 1729    │\n",
       "│ 45209 │ 72  │ retired      │ married  │ secondary │ no      │ 5715    │\n",
       "│ 45210 │ 57  │ blue-collar  │ married  │ secondary │ no      │ 668     │\n",
       "│ 45211 │ 37  │ entrepreneur │ married  │ secondary │ no      │ 2971    │"
      ]
     },
     "execution_count": 18,
     "metadata": {},
     "output_type": "execute_result"
    }
   ],
   "source": [
    "using DataFrames\n",
    "\n",
    "# Acredito que o pacote CSV.jl elimina a necessidade de uar a função Symbol.\n",
    "# Admito que parece exotérico nesse momento essa necessidade\n",
    "df = DataFrame(data, Symbol.(vec(data_names)))"
   ]
  },
  {
   "cell_type": "code",
   "execution_count": 19,
   "metadata": {},
   "outputs": [
    {
     "data": {
      "text/html": [
       "<table class=\"data-frame\"><thead><tr><th></th><th>variable</th><th>mean</th><th>min</th><th>median</th><th>max</th><th>nunique</th><th>nmissing</th><th>eltype</th></tr></thead><tbody><tr><th>1</th><td>age</td><td>40.9362</td><td>18</td><td></td><td>95</td><td>77</td><td>0</td><td>Any</td></tr><tr><th>2</th><td>job</td><td></td><td>admin.</td><td></td><td>unknown</td><td>12</td><td>0</td><td>Any</td></tr><tr><th>3</th><td>marital</td><td></td><td>divorced</td><td></td><td>single</td><td>3</td><td>0</td><td>Any</td></tr><tr><th>4</th><td>education</td><td></td><td>primary</td><td></td><td>unknown</td><td>4</td><td>0</td><td>Any</td></tr><tr><th>5</th><td>default</td><td></td><td>no</td><td></td><td>yes</td><td>2</td><td>0</td><td>Any</td></tr><tr><th>6</th><td>balance</td><td>1362.27</td><td>-8019</td><td></td><td>102127</td><td>7168</td><td>0</td><td>Any</td></tr><tr><th>7</th><td>housing</td><td></td><td>no</td><td></td><td>yes</td><td>2</td><td>0</td><td>Any</td></tr><tr><th>8</th><td>loan</td><td></td><td>no</td><td></td><td>yes</td><td>2</td><td>0</td><td>Any</td></tr><tr><th>9</th><td>contact</td><td></td><td>cellular</td><td></td><td>unknown</td><td>3</td><td>0</td><td>Any</td></tr><tr><th>10</th><td>day</td><td>15.8064</td><td>1</td><td></td><td>31</td><td>31</td><td>0</td><td>Any</td></tr><tr><th>11</th><td>month</td><td></td><td>apr</td><td></td><td>sep</td><td>12</td><td>0</td><td>Any</td></tr><tr><th>12</th><td>duration</td><td>258.163</td><td>0</td><td></td><td>4918</td><td>1573</td><td>0</td><td>Any</td></tr><tr><th>13</th><td>campaign</td><td>2.76384</td><td>1</td><td></td><td>63</td><td>48</td><td>0</td><td>Any</td></tr><tr><th>14</th><td>pdays</td><td>40.1978</td><td>-1</td><td></td><td>871</td><td>559</td><td>0</td><td>Any</td></tr><tr><th>15</th><td>previous</td><td>0.580323</td><td>0</td><td></td><td>275</td><td>41</td><td>0</td><td>Any</td></tr><tr><th>16</th><td>poutcome</td><td></td><td>failure</td><td></td><td>unknown</td><td>4</td><td>0</td><td>Any</td></tr><tr><th>17</th><td>y</td><td></td><td>no</td><td></td><td>yes</td><td>2</td><td>0</td><td>Any</td></tr></tbody></table>"
      ],
      "text/plain": [
       "17×8 DataFrame. Omitted printing of 2 columns\n",
       "│ Row │ variable  │ mean     │ min      │ median │ max     │ nunique │\n",
       "├─────┼───────────┼──────────┼──────────┼────────┼─────────┼─────────┤\n",
       "│ 1   │ age       │ 40.9362  │ 18       │        │ 95      │ 77      │\n",
       "│ 2   │ job       │          │ admin.   │        │ unknown │ 12      │\n",
       "│ 3   │ marital   │          │ divorced │        │ single  │ 3       │\n",
       "│ 4   │ education │          │ primary  │        │ unknown │ 4       │\n",
       "│ 5   │ default   │          │ no       │        │ yes     │ 2       │\n",
       "│ 6   │ balance   │ 1362.27  │ -8019    │        │ 102127  │ 7168    │\n",
       "│ 7   │ housing   │          │ no       │        │ yes     │ 2       │\n",
       "│ 8   │ loan      │          │ no       │        │ yes     │ 2       │\n",
       "│ 9   │ contact   │          │ cellular │        │ unknown │ 3       │\n",
       "│ 10  │ day       │ 15.8064  │ 1        │        │ 31      │ 31      │\n",
       "│ 11  │ month     │          │ apr      │        │ sep     │ 12      │\n",
       "│ 12  │ duration  │ 258.163  │ 0        │        │ 4918    │ 1573    │\n",
       "│ 13  │ campaign  │ 2.76384  │ 1        │        │ 63      │ 48      │\n",
       "│ 14  │ pdays     │ 40.1978  │ -1       │        │ 871     │ 559     │\n",
       "│ 15  │ previous  │ 0.580323 │ 0        │        │ 275     │ 41      │\n",
       "│ 16  │ poutcome  │          │ failure  │        │ unknown │ 4       │\n",
       "│ 17  │ y         │          │ no       │        │ yes     │ 2       │"
      ]
     },
     "execution_count": 19,
     "metadata": {},
     "output_type": "execute_result"
    }
   ],
   "source": [
    "describe(df)"
   ]
  },
  {
   "cell_type": "code",
   "execution_count": 20,
   "metadata": {},
   "outputs": [
    {
     "data": {
      "text/html": [
       "<table class=\"data-frame\"><thead><tr><th></th><th>age</th><th>job</th><th>marital</th><th>education</th><th>default</th><th>balance</th><th>housing</th><th>loan</th><th>contact</th><th>day</th><th>month</th><th>duration</th><th>campaign</th><th>pdays</th><th>previous</th><th>poutcome</th><th>y</th></tr></thead><tbody><tr><th>1</th><td>25</td><td>technician</td><td>single</td><td>secondary</td><td>no</td><td>505</td><td>no</td><td>yes</td><td>cellular</td><td>17</td><td>nov</td><td>386</td><td>2</td><td>-1</td><td>0</td><td>unknown</td><td>yes</td></tr><tr><th>2</th><td>51</td><td>technician</td><td>married</td><td>tertiary</td><td>no</td><td>825</td><td>no</td><td>no</td><td>cellular</td><td>17</td><td>nov</td><td>977</td><td>3</td><td>-1</td><td>0</td><td>unknown</td><td>yes</td></tr><tr><th>3</th><td>71</td><td>retired</td><td>divorced</td><td>primary</td><td>no</td><td>1729</td><td>no</td><td>no</td><td>cellular</td><td>17</td><td>nov</td><td>456</td><td>2</td><td>-1</td><td>0</td><td>unknown</td><td>yes</td></tr><tr><th>4</th><td>72</td><td>retired</td><td>married</td><td>secondary</td><td>no</td><td>5715</td><td>no</td><td>no</td><td>cellular</td><td>17</td><td>nov</td><td>1127</td><td>5</td><td>184</td><td>3</td><td>success</td><td>yes</td></tr><tr><th>5</th><td>57</td><td>blue-collar</td><td>married</td><td>secondary</td><td>no</td><td>668</td><td>no</td><td>no</td><td>telephone</td><td>17</td><td>nov</td><td>508</td><td>4</td><td>-1</td><td>0</td><td>unknown</td><td>no</td></tr><tr><th>6</th><td>37</td><td>entrepreneur</td><td>married</td><td>secondary</td><td>no</td><td>2971</td><td>no</td><td>no</td><td>cellular</td><td>17</td><td>nov</td><td>361</td><td>2</td><td>188</td><td>11</td><td>other</td><td>no</td></tr></tbody></table>"
      ],
      "text/plain": [
       "6×17 DataFrame. Omitted printing of 11 columns\n",
       "│ Row │ age │ job          │ marital  │ education │ default │ balance │\n",
       "├─────┼─────┼──────────────┼──────────┼───────────┼─────────┼─────────┤\n",
       "│ 1   │ 25  │ technician   │ single   │ secondary │ no      │ 505     │\n",
       "│ 2   │ 51  │ technician   │ married  │ tertiary  │ no      │ 825     │\n",
       "│ 3   │ 71  │ retired      │ divorced │ primary   │ no      │ 1729    │\n",
       "│ 4   │ 72  │ retired      │ married  │ secondary │ no      │ 5715    │\n",
       "│ 5   │ 57  │ blue-collar  │ married  │ secondary │ no      │ 668     │\n",
       "│ 6   │ 37  │ entrepreneur │ married  │ secondary │ no      │ 2971    │"
      ]
     },
     "execution_count": 20,
     "metadata": {},
     "output_type": "execute_result"
    }
   ],
   "source": [
    "tail(df)"
   ]
  },
  {
   "cell_type": "code",
   "execution_count": 21,
   "metadata": {},
   "outputs": [
    {
     "name": "stdout",
     "output_type": "stream",
     "text": [
      "search: \u001b[0m\u001b[1mo\u001b[22m\u001b[0m\u001b[1mp\u001b[22m\u001b[0m\u001b[1me\u001b[22m\u001b[0m\u001b[1mn\u001b[22m is\u001b[0m\u001b[1mo\u001b[22m\u001b[0m\u001b[1mp\u001b[22m\u001b[0m\u001b[1me\u001b[22m\u001b[0m\u001b[1mn\u001b[22m pr\u001b[0m\u001b[1mo\u001b[22m\u001b[0m\u001b[1mp\u001b[22m\u001b[0m\u001b[1me\u001b[22mrty\u001b[0m\u001b[1mn\u001b[22mames C\u001b[0m\u001b[1mo\u001b[22mm\u001b[0m\u001b[1mp\u001b[22mosit\u001b[0m\u001b[1me\u001b[22mExceptio\u001b[0m\u001b[1mn\u001b[22m \u001b[0m\u001b[1mo\u001b[22m\u001b[0m\u001b[1mp\u001b[22m\u001b[0m\u001b[1me\u001b[22mrm getpr\u001b[0m\u001b[1mo\u001b[22m\u001b[0m\u001b[1mp\u001b[22m\u001b[0m\u001b[1me\u001b[22mrty\n",
      "\n"
     ]
    },
    {
     "data": {
      "text/markdown": [
       "```\n",
       "open(filename::AbstractString; keywords...) -> IOStream\n",
       "```\n",
       "\n",
       "Open a file in a mode specified by five boolean keyword arguments:\n",
       "\n",
       "| Keyword    | Description            | Default                               |\n",
       "|:---------- |:---------------------- |:------------------------------------- |\n",
       "| `read`     | open for reading       | `!write`                              |\n",
       "| `write`    | open for writing       | `truncate \\| append`                  |\n",
       "| `create`   | create if non-existent | `!read & write \\| truncate \\| append` |\n",
       "| `truncate` | truncate to zero size  | `!read & write`                       |\n",
       "| `append`   | seek to end            | `false`                               |\n",
       "\n",
       "The default when no keywords are passed is to open files for reading only. Returns a stream for accessing the opened file.\n",
       "\n",
       "---\n",
       "\n",
       "```\n",
       "open(filename::AbstractString, [mode::AbstractString]) -> IOStream\n",
       "```\n",
       "\n",
       "Alternate syntax for open, where a string-based mode specifier is used instead of the five booleans. The values of `mode` correspond to those from `fopen(3)` or Perl `open`, and are equivalent to setting the following boolean groups:\n",
       "\n",
       "| Mode | Description                   | Keywords                       |\n",
       "|:---- |:----------------------------- |:------------------------------ |\n",
       "| `r`  | read                          | none                           |\n",
       "| `w`  | write, create, truncate       | `write = true`                 |\n",
       "| `a`  | write, create, append         | `append = true`                |\n",
       "| `r+` | read, write                   | `read = true, write = true`    |\n",
       "| `w+` | read, write, create, truncate | `truncate = true, read = true` |\n",
       "| `a+` | read, write, create, append   | `append = true, read = true`   |\n",
       "\n",
       "# Examples\n",
       "\n",
       "```jldoctest\n",
       "julia> io = open(\"myfile.txt\", \"w\");\n",
       "\n",
       "julia> write(io, \"Hello world!\");\n",
       "\n",
       "julia> close(io);\n",
       "\n",
       "julia> io = open(\"myfile.txt\", \"r\");\n",
       "\n",
       "julia> read(io, String)\n",
       "\"Hello world!\"\n",
       "\n",
       "julia> write(io, \"This file is read only\")\n",
       "ERROR: ArgumentError: write failed, IOStream is not writeable\n",
       "[...]\n",
       "\n",
       "julia> close(io)\n",
       "\n",
       "julia> io = open(\"myfile.txt\", \"a\");\n",
       "\n",
       "julia> write(io, \"This stream is not read only\")\n",
       "28\n",
       "\n",
       "julia> close(io)\n",
       "\n",
       "julia> rm(\"myfile.txt\")\n",
       "```\n",
       "\n",
       "---\n",
       "\n",
       "```\n",
       "open(f::Function, args...; kwargs....)\n",
       "```\n",
       "\n",
       "Apply the function `f` to the result of `open(args...; kwargs...)` and close the resulting file descriptor upon completion.\n",
       "\n",
       "# Examples\n",
       "\n",
       "```jldoctest\n",
       "julia> open(\"myfile.txt\", \"w\") do io\n",
       "           write(io, \"Hello world!\")\n",
       "       end;\n",
       "\n",
       "julia> open(f->read(f, String), \"myfile.txt\")\n",
       "\"Hello world!\"\n",
       "\n",
       "julia> rm(\"myfile.txt\")\n",
       "```\n",
       "\n",
       "---\n",
       "\n",
       "```\n",
       "open(command, stdio=devnull; write::Bool = false, read::Bool = !write)\n",
       "```\n",
       "\n",
       "Start running `command` asynchronously, and return a tuple `(stream,process)`.  If `read` is true, then `stream` reads from the process's standard output and `stdio` optionally specifies the process's standard input stream.  If `write` is true, then `stream` writes to the process's standard input and `stdio` optionally specifies the process's standard output stream.\n",
       "\n",
       "---\n",
       "\n",
       "```\n",
       "open(f::Function, command, mode::AbstractString=\"r\", stdio=devnull)\n",
       "```\n",
       "\n",
       "Similar to `open(command, mode, stdio)`, but calls `f(stream)` on the resulting process stream, then closes the input stream and waits for the process to complete. Returns the value returned by `f`.\n"
      ],
      "text/plain": [
       "\u001b[36m  open(filename::AbstractString; keywords...) -> IOStream\u001b[39m\n",
       "\n",
       "  Open a file in a mode specified by five boolean keyword arguments:\n",
       "\n",
       "Keyword  Description            Default                          \n",
       "–––––––– –––––––––––––––––––––– –––––––––––––––––––––––––––––––––\n",
       "\u001b[36mread\u001b[39m     open for reading       \u001b[36m!write\u001b[39m                           \n",
       "\u001b[36mwrite\u001b[39m    open for writing       \u001b[36mtruncate | append\u001b[39m                \n",
       "\u001b[36mcreate\u001b[39m   create if non-existent \u001b[36m!read & write | truncate | append\u001b[39m\n",
       "\u001b[36mtruncate\u001b[39m truncate to zero size  \u001b[36m!read & write\u001b[39m                    \n",
       "\u001b[36mappend\u001b[39m   seek to end            \u001b[36mfalse\u001b[39m                            \n",
       "\n",
       "  The default when no keywords are passed is to open files for reading only.\n",
       "  Returns a stream for accessing the opened file.\n",
       "\n",
       "  ────────────────────────────────────────────────────────────────────────────\n",
       "\n",
       "\u001b[36m  open(filename::AbstractString, [mode::AbstractString]) -> IOStream\u001b[39m\n",
       "\n",
       "  Alternate syntax for open, where a string-based mode specifier is used\n",
       "  instead of the five booleans. The values of \u001b[36mmode\u001b[39m correspond to those from\n",
       "  \u001b[36mfopen(3)\u001b[39m or Perl \u001b[36mopen\u001b[39m, and are equivalent to setting the following boolean\n",
       "  groups:\n",
       "\n",
       "Mode Description                   Keywords                    \n",
       "–––– ––––––––––––––––––––––––––––– ––––––––––––––––––––––––––––\n",
       "\u001b[36mr\u001b[39m    read                          none                        \n",
       "\u001b[36mw\u001b[39m    write, create, truncate       \u001b[36mwrite = true\u001b[39m                \n",
       "\u001b[36ma\u001b[39m    write, create, append         \u001b[36mappend = true\u001b[39m               \n",
       "\u001b[36mr+\u001b[39m   read, write                   \u001b[36mread = true, write = true\u001b[39m   \n",
       "\u001b[36mw+\u001b[39m   read, write, create, truncate \u001b[36mtruncate = true, read = true\u001b[39m\n",
       "\u001b[36ma+\u001b[39m   read, write, create, append   \u001b[36mappend = true, read = true\u001b[39m  \n",
       "\n",
       "\u001b[1m  Examples\u001b[22m\n",
       "\u001b[1m  ≡≡≡≡≡≡≡≡≡≡\u001b[22m\n",
       "\n",
       "\u001b[36m  julia> io = open(\"myfile.txt\", \"w\");\u001b[39m\n",
       "\u001b[36m  \u001b[39m\n",
       "\u001b[36m  julia> write(io, \"Hello world!\");\u001b[39m\n",
       "\u001b[36m  \u001b[39m\n",
       "\u001b[36m  julia> close(io);\u001b[39m\n",
       "\u001b[36m  \u001b[39m\n",
       "\u001b[36m  julia> io = open(\"myfile.txt\", \"r\");\u001b[39m\n",
       "\u001b[36m  \u001b[39m\n",
       "\u001b[36m  julia> read(io, String)\u001b[39m\n",
       "\u001b[36m  \"Hello world!\"\u001b[39m\n",
       "\u001b[36m  \u001b[39m\n",
       "\u001b[36m  julia> write(io, \"This file is read only\")\u001b[39m\n",
       "\u001b[36m  ERROR: ArgumentError: write failed, IOStream is not writeable\u001b[39m\n",
       "\u001b[36m  [...]\u001b[39m\n",
       "\u001b[36m  \u001b[39m\n",
       "\u001b[36m  julia> close(io)\u001b[39m\n",
       "\u001b[36m  \u001b[39m\n",
       "\u001b[36m  julia> io = open(\"myfile.txt\", \"a\");\u001b[39m\n",
       "\u001b[36m  \u001b[39m\n",
       "\u001b[36m  julia> write(io, \"This stream is not read only\")\u001b[39m\n",
       "\u001b[36m  28\u001b[39m\n",
       "\u001b[36m  \u001b[39m\n",
       "\u001b[36m  julia> close(io)\u001b[39m\n",
       "\u001b[36m  \u001b[39m\n",
       "\u001b[36m  julia> rm(\"myfile.txt\")\u001b[39m\n",
       "\n",
       "  ────────────────────────────────────────────────────────────────────────────\n",
       "\n",
       "\u001b[36m  open(f::Function, args...; kwargs....)\u001b[39m\n",
       "\n",
       "  Apply the function \u001b[36mf\u001b[39m to the result of \u001b[36mopen(args...; kwargs...)\u001b[39m and close the\n",
       "  resulting file descriptor upon completion.\n",
       "\n",
       "\u001b[1m  Examples\u001b[22m\n",
       "\u001b[1m  ≡≡≡≡≡≡≡≡≡≡\u001b[22m\n",
       "\n",
       "\u001b[36m  julia> open(\"myfile.txt\", \"w\") do io\u001b[39m\n",
       "\u001b[36m             write(io, \"Hello world!\")\u001b[39m\n",
       "\u001b[36m         end;\u001b[39m\n",
       "\u001b[36m  \u001b[39m\n",
       "\u001b[36m  julia> open(f->read(f, String), \"myfile.txt\")\u001b[39m\n",
       "\u001b[36m  \"Hello world!\"\u001b[39m\n",
       "\u001b[36m  \u001b[39m\n",
       "\u001b[36m  julia> rm(\"myfile.txt\")\u001b[39m\n",
       "\n",
       "  ────────────────────────────────────────────────────────────────────────────\n",
       "\n",
       "\u001b[36m  open(command, stdio=devnull; write::Bool = false, read::Bool = !write)\u001b[39m\n",
       "\n",
       "  Start running \u001b[36mcommand\u001b[39m asynchronously, and return a tuple \u001b[36m(stream,process)\u001b[39m.\n",
       "  If \u001b[36mread\u001b[39m is true, then \u001b[36mstream\u001b[39m reads from the process's standard output and\n",
       "  \u001b[36mstdio\u001b[39m optionally specifies the process's standard input stream. If \u001b[36mwrite\u001b[39m is\n",
       "  true, then \u001b[36mstream\u001b[39m writes to the process's standard input and \u001b[36mstdio\u001b[39m\n",
       "  optionally specifies the process's standard output stream.\n",
       "\n",
       "  ────────────────────────────────────────────────────────────────────────────\n",
       "\n",
       "\u001b[36m  open(f::Function, command, mode::AbstractString=\"r\", stdio=devnull)\u001b[39m\n",
       "\n",
       "  Similar to \u001b[36mopen(command, mode, stdio)\u001b[39m, but calls \u001b[36mf(stream)\u001b[39m on the resulting\n",
       "  process stream, then closes the input stream and waits for the process to\n",
       "  complete. Returns the value returned by \u001b[36mf\u001b[39m."
      ]
     },
     "execution_count": 21,
     "metadata": {},
     "output_type": "execute_result"
    }
   ],
   "source": [
    "# Tudo que é preciso saber para abrir arquivos e escrever neles\n",
    "?open"
   ]
  }
 ],
 "metadata": {
  "kernelspec": {
   "display_name": "Julia 1.0.0",
   "language": "julia",
   "name": "julia-1.0"
  },
  "language_info": {
   "file_extension": ".jl",
   "mimetype": "application/julia",
   "name": "julia",
   "version": "1.0.0"
  }
 },
 "nbformat": 4,
 "nbformat_minor": 2
}
